{
  "nbformat": 4,
  "nbformat_minor": 0,
  "metadata": {
    "colab": {
      "name": "linear regression-Nina Yang model",
      "version": "0.3.2",
      "provenance": [],
      "collapsed_sections": [
        "xcpLFdExMo9x",
        "ZdOS02NgNBk1",
        "HyNJLkXvV84d",
        "GV4AuHc3VoNm",
        "uPc_ziXrYf4K",
        "0v6peWR9Zqn4"
      ]
    },
    "kernelspec": {
      "name": "python3",
      "display_name": "Python 3"
    }
  },
  "cells": [
    {
      "metadata": {
        "id": "4362wTmsMkE2",
        "colab_type": "text"
      },
      "cell_type": "markdown",
      "source": [
        "# ML Regression"
      ]
    },
    {
      "metadata": {
        "id": "xcpLFdExMo9x",
        "colab_type": "text"
      },
      "cell_type": "markdown",
      "source": [
        "## Ingest"
      ]
    },
    {
      "metadata": {
        "id": "tb1teb6sNLny",
        "colab_type": "text"
      },
      "cell_type": "markdown",
      "source": [
        "Source:  http://wiki.stat.ucla.edu/socr/index.php/SOCR_Data_MLB_HeightsWeights"
      ]
    },
    {
      "metadata": {
        "id": "Yy9RNaZKMicJ",
        "colab_type": "code",
        "outputId": "c5d4b742-26c0-4c06-82cf-5d92bd5079d3",
        "colab": {
          "base_uri": "https://localhost:8080/",
          "height": 204
        }
      },
      "cell_type": "code",
      "source": [
        "import pandas as pd\n",
        "df = pd.read_csv(\"https://raw.githubusercontent.com/noahgift/functional_intro_to_python/master/data/mlb_weight_ht.csv\")\n",
        "df.head()\n"
      ],
      "execution_count": 0,
      "outputs": [
        {
          "output_type": "execute_result",
          "data": {
            "text/html": [
              "<div>\n",
              "<style scoped>\n",
              "    .dataframe tbody tr th:only-of-type {\n",
              "        vertical-align: middle;\n",
              "    }\n",
              "\n",
              "    .dataframe tbody tr th {\n",
              "        vertical-align: top;\n",
              "    }\n",
              "\n",
              "    .dataframe thead th {\n",
              "        text-align: right;\n",
              "    }\n",
              "</style>\n",
              "<table border=\"1\" class=\"dataframe\">\n",
              "  <thead>\n",
              "    <tr style=\"text-align: right;\">\n",
              "      <th></th>\n",
              "      <th>Name</th>\n",
              "      <th>Team</th>\n",
              "      <th>Position</th>\n",
              "      <th>Height(inches)</th>\n",
              "      <th>Weight(pounds)</th>\n",
              "      <th>Age</th>\n",
              "    </tr>\n",
              "  </thead>\n",
              "  <tbody>\n",
              "    <tr>\n",
              "      <th>0</th>\n",
              "      <td>Adam_Donachie</td>\n",
              "      <td>BAL</td>\n",
              "      <td>Catcher</td>\n",
              "      <td>74</td>\n",
              "      <td>180.0</td>\n",
              "      <td>22.99</td>\n",
              "    </tr>\n",
              "    <tr>\n",
              "      <th>1</th>\n",
              "      <td>Paul_Bako</td>\n",
              "      <td>BAL</td>\n",
              "      <td>Catcher</td>\n",
              "      <td>74</td>\n",
              "      <td>215.0</td>\n",
              "      <td>34.69</td>\n",
              "    </tr>\n",
              "    <tr>\n",
              "      <th>2</th>\n",
              "      <td>Ramon_Hernandez</td>\n",
              "      <td>BAL</td>\n",
              "      <td>Catcher</td>\n",
              "      <td>72</td>\n",
              "      <td>210.0</td>\n",
              "      <td>30.78</td>\n",
              "    </tr>\n",
              "    <tr>\n",
              "      <th>3</th>\n",
              "      <td>Kevin_Millar</td>\n",
              "      <td>BAL</td>\n",
              "      <td>First_Baseman</td>\n",
              "      <td>72</td>\n",
              "      <td>210.0</td>\n",
              "      <td>35.43</td>\n",
              "    </tr>\n",
              "    <tr>\n",
              "      <th>4</th>\n",
              "      <td>Chris_Gomez</td>\n",
              "      <td>BAL</td>\n",
              "      <td>First_Baseman</td>\n",
              "      <td>73</td>\n",
              "      <td>188.0</td>\n",
              "      <td>35.71</td>\n",
              "    </tr>\n",
              "  </tbody>\n",
              "</table>\n",
              "</div>"
            ],
            "text/plain": [
              "              Name Team       Position  Height(inches)  Weight(pounds)    Age\n",
              "0    Adam_Donachie  BAL        Catcher              74           180.0  22.99\n",
              "1        Paul_Bako  BAL        Catcher              74           215.0  34.69\n",
              "2  Ramon_Hernandez  BAL        Catcher              72           210.0  30.78\n",
              "3     Kevin_Millar  BAL  First_Baseman              72           210.0  35.43\n",
              "4      Chris_Gomez  BAL  First_Baseman              73           188.0  35.71"
            ]
          },
          "metadata": {
            "tags": []
          },
          "execution_count": 82
        }
      ]
    },
    {
      "metadata": {
        "id": "94wUpB9ZXux_",
        "colab_type": "text"
      },
      "cell_type": "markdown",
      "source": [
        "Find N/A"
      ]
    },
    {
      "metadata": {
        "id": "EUEKUcSGX411",
        "colab_type": "code",
        "outputId": "5c034c82-9ebe-47ce-b3cb-ca2dcd66a308",
        "colab": {
          "base_uri": "https://localhost:8080/",
          "height": 34
        }
      },
      "cell_type": "code",
      "source": [
        "df.shape"
      ],
      "execution_count": 0,
      "outputs": [
        {
          "output_type": "execute_result",
          "data": {
            "text/plain": [
              "(1034, 6)"
            ]
          },
          "metadata": {
            "tags": []
          },
          "execution_count": 83
        }
      ]
    },
    {
      "metadata": {
        "id": "N2lBngydXmTP",
        "colab_type": "code",
        "outputId": "f19de116-e020-476c-e465-a2d63489eb37",
        "colab": {
          "base_uri": "https://localhost:8080/",
          "height": 34
        }
      },
      "cell_type": "code",
      "source": [
        "df.isnull().values.any()"
      ],
      "execution_count": 0,
      "outputs": [
        {
          "output_type": "execute_result",
          "data": {
            "text/plain": [
              "True"
            ]
          },
          "metadata": {
            "tags": []
          },
          "execution_count": 84
        }
      ]
    },
    {
      "metadata": {
        "id": "V1g0_zidXw8N",
        "colab_type": "code",
        "outputId": "e5b76e95-002b-4ec6-b040-4912b17d38ce",
        "colab": {
          "base_uri": "https://localhost:8080/",
          "height": 34
        }
      },
      "cell_type": "code",
      "source": [
        "df = df.dropna()\n",
        "df.isnull().values.any()"
      ],
      "execution_count": 0,
      "outputs": [
        {
          "output_type": "execute_result",
          "data": {
            "text/plain": [
              "False"
            ]
          },
          "metadata": {
            "tags": []
          },
          "execution_count": 85
        }
      ]
    },
    {
      "metadata": {
        "id": "zRAL01iuX6dc",
        "colab_type": "code",
        "outputId": "1db9cfa1-6293-467a-dacb-988be6647797",
        "colab": {
          "base_uri": "https://localhost:8080/",
          "height": 34
        }
      },
      "cell_type": "code",
      "source": [
        "df.shape"
      ],
      "execution_count": 0,
      "outputs": [
        {
          "output_type": "execute_result",
          "data": {
            "text/plain": [
              "(1033, 6)"
            ]
          },
          "metadata": {
            "tags": []
          },
          "execution_count": 86
        }
      ]
    },
    {
      "metadata": {
        "id": "hinonO2OOmYi",
        "colab_type": "text"
      },
      "cell_type": "markdown",
      "source": [
        "### Clean"
      ]
    },
    {
      "metadata": {
        "id": "xGnhpcC9OohW",
        "colab_type": "code",
        "outputId": "044bd8d3-73c7-4b7b-d958-bba5648e04e0",
        "colab": {
          "base_uri": "https://localhost:8080/",
          "height": 204
        }
      },
      "cell_type": "code",
      "source": [
        "df.rename(index=str, \n",
        "             columns={\"Height(inches)\": \"Height\", \"Weight(pounds)\": \"Weight\"},\n",
        "             inplace=True)\n",
        "df.head()\n"
      ],
      "execution_count": 0,
      "outputs": [
        {
          "output_type": "execute_result",
          "data": {
            "text/html": [
              "<div>\n",
              "<style scoped>\n",
              "    .dataframe tbody tr th:only-of-type {\n",
              "        vertical-align: middle;\n",
              "    }\n",
              "\n",
              "    .dataframe tbody tr th {\n",
              "        vertical-align: top;\n",
              "    }\n",
              "\n",
              "    .dataframe thead th {\n",
              "        text-align: right;\n",
              "    }\n",
              "</style>\n",
              "<table border=\"1\" class=\"dataframe\">\n",
              "  <thead>\n",
              "    <tr style=\"text-align: right;\">\n",
              "      <th></th>\n",
              "      <th>Name</th>\n",
              "      <th>Team</th>\n",
              "      <th>Position</th>\n",
              "      <th>Height</th>\n",
              "      <th>Weight</th>\n",
              "      <th>Age</th>\n",
              "    </tr>\n",
              "  </thead>\n",
              "  <tbody>\n",
              "    <tr>\n",
              "      <th>0</th>\n",
              "      <td>Adam_Donachie</td>\n",
              "      <td>BAL</td>\n",
              "      <td>Catcher</td>\n",
              "      <td>74</td>\n",
              "      <td>180.0</td>\n",
              "      <td>22.99</td>\n",
              "    </tr>\n",
              "    <tr>\n",
              "      <th>1</th>\n",
              "      <td>Paul_Bako</td>\n",
              "      <td>BAL</td>\n",
              "      <td>Catcher</td>\n",
              "      <td>74</td>\n",
              "      <td>215.0</td>\n",
              "      <td>34.69</td>\n",
              "    </tr>\n",
              "    <tr>\n",
              "      <th>2</th>\n",
              "      <td>Ramon_Hernandez</td>\n",
              "      <td>BAL</td>\n",
              "      <td>Catcher</td>\n",
              "      <td>72</td>\n",
              "      <td>210.0</td>\n",
              "      <td>30.78</td>\n",
              "    </tr>\n",
              "    <tr>\n",
              "      <th>3</th>\n",
              "      <td>Kevin_Millar</td>\n",
              "      <td>BAL</td>\n",
              "      <td>First_Baseman</td>\n",
              "      <td>72</td>\n",
              "      <td>210.0</td>\n",
              "      <td>35.43</td>\n",
              "    </tr>\n",
              "    <tr>\n",
              "      <th>4</th>\n",
              "      <td>Chris_Gomez</td>\n",
              "      <td>BAL</td>\n",
              "      <td>First_Baseman</td>\n",
              "      <td>73</td>\n",
              "      <td>188.0</td>\n",
              "      <td>35.71</td>\n",
              "    </tr>\n",
              "  </tbody>\n",
              "</table>\n",
              "</div>"
            ],
            "text/plain": [
              "              Name Team       Position  Height  Weight    Age\n",
              "0    Adam_Donachie  BAL        Catcher      74   180.0  22.99\n",
              "1        Paul_Bako  BAL        Catcher      74   215.0  34.69\n",
              "2  Ramon_Hernandez  BAL        Catcher      72   210.0  30.78\n",
              "3     Kevin_Millar  BAL  First_Baseman      72   210.0  35.43\n",
              "4      Chris_Gomez  BAL  First_Baseman      73   188.0  35.71"
            ]
          },
          "metadata": {
            "tags": []
          },
          "execution_count": 87
        }
      ]
    },
    {
      "metadata": {
        "id": "mCW1MOjvnNKj",
        "colab_type": "code",
        "outputId": "ee3e903d-2def-4258-a0a8-28d55fd96f83",
        "colab": {
          "base_uri": "https://localhost:8080/",
          "height": 204
        }
      },
      "cell_type": "code",
      "source": [
        "df.describe()\n",
        "df.info()"
      ],
      "execution_count": 0,
      "outputs": [
        {
          "output_type": "stream",
          "text": [
            "<class 'pandas.core.frame.DataFrame'>\n",
            "Index: 1033 entries, 0 to 1033\n",
            "Data columns (total 6 columns):\n",
            "Name        1033 non-null object\n",
            "Team        1033 non-null object\n",
            "Position    1033 non-null object\n",
            "Height      1033 non-null int64\n",
            "Weight      1033 non-null float64\n",
            "Age         1033 non-null float64\n",
            "dtypes: float64(2), int64(1), object(3)\n",
            "memory usage: 56.5+ KB\n"
          ],
          "name": "stdout"
        }
      ]
    },
    {
      "metadata": {
        "id": "uWRy5chkoAJF",
        "colab_type": "code",
        "outputId": "6965d378-bbe6-41f9-eb7f-5a18d2d32a77",
        "colab": {
          "base_uri": "https://localhost:8080/",
          "height": 1969
        }
      },
      "cell_type": "code",
      "source": [
        "#Drop Name\n",
        "df.drop(['Name'],axis=1)\n"
      ],
      "execution_count": 0,
      "outputs": [
        {
          "output_type": "execute_result",
          "data": {
            "text/html": [
              "<div>\n",
              "<style scoped>\n",
              "    .dataframe tbody tr th:only-of-type {\n",
              "        vertical-align: middle;\n",
              "    }\n",
              "\n",
              "    .dataframe tbody tr th {\n",
              "        vertical-align: top;\n",
              "    }\n",
              "\n",
              "    .dataframe thead th {\n",
              "        text-align: right;\n",
              "    }\n",
              "</style>\n",
              "<table border=\"1\" class=\"dataframe\">\n",
              "  <thead>\n",
              "    <tr style=\"text-align: right;\">\n",
              "      <th></th>\n",
              "      <th>Team</th>\n",
              "      <th>Position</th>\n",
              "      <th>Height</th>\n",
              "      <th>Weight</th>\n",
              "      <th>Age</th>\n",
              "    </tr>\n",
              "  </thead>\n",
              "  <tbody>\n",
              "    <tr>\n",
              "      <th>0</th>\n",
              "      <td>BAL</td>\n",
              "      <td>Catcher</td>\n",
              "      <td>74</td>\n",
              "      <td>180.0</td>\n",
              "      <td>22.99</td>\n",
              "    </tr>\n",
              "    <tr>\n",
              "      <th>1</th>\n",
              "      <td>BAL</td>\n",
              "      <td>Catcher</td>\n",
              "      <td>74</td>\n",
              "      <td>215.0</td>\n",
              "      <td>34.69</td>\n",
              "    </tr>\n",
              "    <tr>\n",
              "      <th>2</th>\n",
              "      <td>BAL</td>\n",
              "      <td>Catcher</td>\n",
              "      <td>72</td>\n",
              "      <td>210.0</td>\n",
              "      <td>30.78</td>\n",
              "    </tr>\n",
              "    <tr>\n",
              "      <th>3</th>\n",
              "      <td>BAL</td>\n",
              "      <td>First_Baseman</td>\n",
              "      <td>72</td>\n",
              "      <td>210.0</td>\n",
              "      <td>35.43</td>\n",
              "    </tr>\n",
              "    <tr>\n",
              "      <th>4</th>\n",
              "      <td>BAL</td>\n",
              "      <td>First_Baseman</td>\n",
              "      <td>73</td>\n",
              "      <td>188.0</td>\n",
              "      <td>35.71</td>\n",
              "    </tr>\n",
              "    <tr>\n",
              "      <th>5</th>\n",
              "      <td>BAL</td>\n",
              "      <td>Second_Baseman</td>\n",
              "      <td>69</td>\n",
              "      <td>176.0</td>\n",
              "      <td>29.39</td>\n",
              "    </tr>\n",
              "    <tr>\n",
              "      <th>6</th>\n",
              "      <td>BAL</td>\n",
              "      <td>Shortstop</td>\n",
              "      <td>69</td>\n",
              "      <td>209.0</td>\n",
              "      <td>30.77</td>\n",
              "    </tr>\n",
              "    <tr>\n",
              "      <th>7</th>\n",
              "      <td>BAL</td>\n",
              "      <td>Third_Baseman</td>\n",
              "      <td>71</td>\n",
              "      <td>200.0</td>\n",
              "      <td>35.07</td>\n",
              "    </tr>\n",
              "    <tr>\n",
              "      <th>8</th>\n",
              "      <td>BAL</td>\n",
              "      <td>Third_Baseman</td>\n",
              "      <td>76</td>\n",
              "      <td>231.0</td>\n",
              "      <td>30.19</td>\n",
              "    </tr>\n",
              "    <tr>\n",
              "      <th>9</th>\n",
              "      <td>BAL</td>\n",
              "      <td>Outfielder</td>\n",
              "      <td>71</td>\n",
              "      <td>180.0</td>\n",
              "      <td>27.05</td>\n",
              "    </tr>\n",
              "    <tr>\n",
              "      <th>10</th>\n",
              "      <td>BAL</td>\n",
              "      <td>Outfielder</td>\n",
              "      <td>73</td>\n",
              "      <td>188.0</td>\n",
              "      <td>23.88</td>\n",
              "    </tr>\n",
              "    <tr>\n",
              "      <th>11</th>\n",
              "      <td>BAL</td>\n",
              "      <td>Outfielder</td>\n",
              "      <td>73</td>\n",
              "      <td>180.0</td>\n",
              "      <td>26.96</td>\n",
              "    </tr>\n",
              "    <tr>\n",
              "      <th>12</th>\n",
              "      <td>BAL</td>\n",
              "      <td>Outfielder</td>\n",
              "      <td>74</td>\n",
              "      <td>185.0</td>\n",
              "      <td>23.29</td>\n",
              "    </tr>\n",
              "    <tr>\n",
              "      <th>13</th>\n",
              "      <td>BAL</td>\n",
              "      <td>Outfielder</td>\n",
              "      <td>74</td>\n",
              "      <td>160.0</td>\n",
              "      <td>26.11</td>\n",
              "    </tr>\n",
              "    <tr>\n",
              "      <th>14</th>\n",
              "      <td>BAL</td>\n",
              "      <td>Outfielder</td>\n",
              "      <td>69</td>\n",
              "      <td>180.0</td>\n",
              "      <td>27.55</td>\n",
              "    </tr>\n",
              "    <tr>\n",
              "      <th>15</th>\n",
              "      <td>BAL</td>\n",
              "      <td>Outfielder</td>\n",
              "      <td>70</td>\n",
              "      <td>185.0</td>\n",
              "      <td>34.27</td>\n",
              "    </tr>\n",
              "    <tr>\n",
              "      <th>16</th>\n",
              "      <td>BAL</td>\n",
              "      <td>Designated_Hitter</td>\n",
              "      <td>72</td>\n",
              "      <td>197.0</td>\n",
              "      <td>30.00</td>\n",
              "    </tr>\n",
              "    <tr>\n",
              "      <th>17</th>\n",
              "      <td>BAL</td>\n",
              "      <td>Starting_Pitcher</td>\n",
              "      <td>73</td>\n",
              "      <td>189.0</td>\n",
              "      <td>27.99</td>\n",
              "    </tr>\n",
              "    <tr>\n",
              "      <th>18</th>\n",
              "      <td>BAL</td>\n",
              "      <td>Starting_Pitcher</td>\n",
              "      <td>75</td>\n",
              "      <td>185.0</td>\n",
              "      <td>22.38</td>\n",
              "    </tr>\n",
              "    <tr>\n",
              "      <th>19</th>\n",
              "      <td>BAL</td>\n",
              "      <td>Starting_Pitcher</td>\n",
              "      <td>78</td>\n",
              "      <td>219.0</td>\n",
              "      <td>22.89</td>\n",
              "    </tr>\n",
              "    <tr>\n",
              "      <th>20</th>\n",
              "      <td>BAL</td>\n",
              "      <td>Starting_Pitcher</td>\n",
              "      <td>79</td>\n",
              "      <td>230.0</td>\n",
              "      <td>25.76</td>\n",
              "    </tr>\n",
              "    <tr>\n",
              "      <th>21</th>\n",
              "      <td>BAL</td>\n",
              "      <td>Starting_Pitcher</td>\n",
              "      <td>76</td>\n",
              "      <td>205.0</td>\n",
              "      <td>36.33</td>\n",
              "    </tr>\n",
              "    <tr>\n",
              "      <th>22</th>\n",
              "      <td>BAL</td>\n",
              "      <td>Starting_Pitcher</td>\n",
              "      <td>74</td>\n",
              "      <td>230.0</td>\n",
              "      <td>31.17</td>\n",
              "    </tr>\n",
              "    <tr>\n",
              "      <th>23</th>\n",
              "      <td>BAL</td>\n",
              "      <td>Starting_Pitcher</td>\n",
              "      <td>76</td>\n",
              "      <td>195.0</td>\n",
              "      <td>32.31</td>\n",
              "    </tr>\n",
              "    <tr>\n",
              "      <th>24</th>\n",
              "      <td>BAL</td>\n",
              "      <td>Relief_Pitcher</td>\n",
              "      <td>72</td>\n",
              "      <td>180.0</td>\n",
              "      <td>31.03</td>\n",
              "    </tr>\n",
              "    <tr>\n",
              "      <th>25</th>\n",
              "      <td>BAL</td>\n",
              "      <td>Relief_Pitcher</td>\n",
              "      <td>71</td>\n",
              "      <td>192.0</td>\n",
              "      <td>29.26</td>\n",
              "    </tr>\n",
              "    <tr>\n",
              "      <th>26</th>\n",
              "      <td>BAL</td>\n",
              "      <td>Relief_Pitcher</td>\n",
              "      <td>75</td>\n",
              "      <td>225.0</td>\n",
              "      <td>29.47</td>\n",
              "    </tr>\n",
              "    <tr>\n",
              "      <th>27</th>\n",
              "      <td>BAL</td>\n",
              "      <td>Relief_Pitcher</td>\n",
              "      <td>77</td>\n",
              "      <td>203.0</td>\n",
              "      <td>32.46</td>\n",
              "    </tr>\n",
              "    <tr>\n",
              "      <th>28</th>\n",
              "      <td>BAL</td>\n",
              "      <td>Relief_Pitcher</td>\n",
              "      <td>74</td>\n",
              "      <td>195.0</td>\n",
              "      <td>35.67</td>\n",
              "    </tr>\n",
              "    <tr>\n",
              "      <th>29</th>\n",
              "      <td>BAL</td>\n",
              "      <td>Relief_Pitcher</td>\n",
              "      <td>73</td>\n",
              "      <td>182.0</td>\n",
              "      <td>25.89</td>\n",
              "    </tr>\n",
              "    <tr>\n",
              "      <th>...</th>\n",
              "      <td>...</td>\n",
              "      <td>...</td>\n",
              "      <td>...</td>\n",
              "      <td>...</td>\n",
              "      <td>...</td>\n",
              "    </tr>\n",
              "    <tr>\n",
              "      <th>1004</th>\n",
              "      <td>STL</td>\n",
              "      <td>First_Baseman</td>\n",
              "      <td>73</td>\n",
              "      <td>190.0</td>\n",
              "      <td>27.99</td>\n",
              "    </tr>\n",
              "    <tr>\n",
              "      <th>1005</th>\n",
              "      <td>STL</td>\n",
              "      <td>First_Baseman</td>\n",
              "      <td>75</td>\n",
              "      <td>225.0</td>\n",
              "      <td>27.12</td>\n",
              "    </tr>\n",
              "    <tr>\n",
              "      <th>1006</th>\n",
              "      <td>STL</td>\n",
              "      <td>Second_Baseman</td>\n",
              "      <td>73</td>\n",
              "      <td>185.0</td>\n",
              "      <td>31.14</td>\n",
              "    </tr>\n",
              "    <tr>\n",
              "      <th>1007</th>\n",
              "      <td>STL</td>\n",
              "      <td>Second_Baseman</td>\n",
              "      <td>67</td>\n",
              "      <td>180.0</td>\n",
              "      <td>30.21</td>\n",
              "    </tr>\n",
              "    <tr>\n",
              "      <th>1008</th>\n",
              "      <td>STL</td>\n",
              "      <td>Shortstop</td>\n",
              "      <td>67</td>\n",
              "      <td>165.0</td>\n",
              "      <td>32.11</td>\n",
              "    </tr>\n",
              "    <tr>\n",
              "      <th>1009</th>\n",
              "      <td>STL</td>\n",
              "      <td>Third_Baseman</td>\n",
              "      <td>76</td>\n",
              "      <td>240.0</td>\n",
              "      <td>31.91</td>\n",
              "    </tr>\n",
              "    <tr>\n",
              "      <th>1010</th>\n",
              "      <td>STL</td>\n",
              "      <td>Third_Baseman</td>\n",
              "      <td>74</td>\n",
              "      <td>220.0</td>\n",
              "      <td>34.44</td>\n",
              "    </tr>\n",
              "    <tr>\n",
              "      <th>1011</th>\n",
              "      <td>STL</td>\n",
              "      <td>Outfielder</td>\n",
              "      <td>73</td>\n",
              "      <td>212.0</td>\n",
              "      <td>36.68</td>\n",
              "    </tr>\n",
              "    <tr>\n",
              "      <th>1012</th>\n",
              "      <td>STL</td>\n",
              "      <td>Outfielder</td>\n",
              "      <td>70</td>\n",
              "      <td>163.0</td>\n",
              "      <td>37.66</td>\n",
              "    </tr>\n",
              "    <tr>\n",
              "      <th>1013</th>\n",
              "      <td>STL</td>\n",
              "      <td>Outfielder</td>\n",
              "      <td>75</td>\n",
              "      <td>215.0</td>\n",
              "      <td>30.98</td>\n",
              "    </tr>\n",
              "    <tr>\n",
              "      <th>1014</th>\n",
              "      <td>STL</td>\n",
              "      <td>Outfielder</td>\n",
              "      <td>70</td>\n",
              "      <td>175.0</td>\n",
              "      <td>27.07</td>\n",
              "    </tr>\n",
              "    <tr>\n",
              "      <th>1015</th>\n",
              "      <td>STL</td>\n",
              "      <td>Outfielder</td>\n",
              "      <td>72</td>\n",
              "      <td>205.0</td>\n",
              "      <td>29.11</td>\n",
              "    </tr>\n",
              "    <tr>\n",
              "      <th>1016</th>\n",
              "      <td>STL</td>\n",
              "      <td>Outfielder</td>\n",
              "      <td>77</td>\n",
              "      <td>210.0</td>\n",
              "      <td>25.82</td>\n",
              "    </tr>\n",
              "    <tr>\n",
              "      <th>1017</th>\n",
              "      <td>STL</td>\n",
              "      <td>Starting_Pitcher</td>\n",
              "      <td>79</td>\n",
              "      <td>205.0</td>\n",
              "      <td>25.50</td>\n",
              "    </tr>\n",
              "    <tr>\n",
              "      <th>1018</th>\n",
              "      <td>STL</td>\n",
              "      <td>Starting_Pitcher</td>\n",
              "      <td>78</td>\n",
              "      <td>208.0</td>\n",
              "      <td>29.57</td>\n",
              "    </tr>\n",
              "    <tr>\n",
              "      <th>1019</th>\n",
              "      <td>STL</td>\n",
              "      <td>Starting_Pitcher</td>\n",
              "      <td>74</td>\n",
              "      <td>215.0</td>\n",
              "      <td>25.37</td>\n",
              "    </tr>\n",
              "    <tr>\n",
              "      <th>1020</th>\n",
              "      <td>STL</td>\n",
              "      <td>Starting_Pitcher</td>\n",
              "      <td>75</td>\n",
              "      <td>180.0</td>\n",
              "      <td>33.99</td>\n",
              "    </tr>\n",
              "    <tr>\n",
              "      <th>1021</th>\n",
              "      <td>STL</td>\n",
              "      <td>Starting_Pitcher</td>\n",
              "      <td>75</td>\n",
              "      <td>200.0</td>\n",
              "      <td>29.86</td>\n",
              "    </tr>\n",
              "    <tr>\n",
              "      <th>1022</th>\n",
              "      <td>STL</td>\n",
              "      <td>Starting_Pitcher</td>\n",
              "      <td>78</td>\n",
              "      <td>230.0</td>\n",
              "      <td>31.84</td>\n",
              "    </tr>\n",
              "    <tr>\n",
              "      <th>1023</th>\n",
              "      <td>STL</td>\n",
              "      <td>Relief_Pitcher</td>\n",
              "      <td>76</td>\n",
              "      <td>211.0</td>\n",
              "      <td>38.31</td>\n",
              "    </tr>\n",
              "    <tr>\n",
              "      <th>1024</th>\n",
              "      <td>STL</td>\n",
              "      <td>Relief_Pitcher</td>\n",
              "      <td>75</td>\n",
              "      <td>230.0</td>\n",
              "      <td>34.48</td>\n",
              "    </tr>\n",
              "    <tr>\n",
              "      <th>1025</th>\n",
              "      <td>STL</td>\n",
              "      <td>Relief_Pitcher</td>\n",
              "      <td>69</td>\n",
              "      <td>190.0</td>\n",
              "      <td>36.88</td>\n",
              "    </tr>\n",
              "    <tr>\n",
              "      <th>1026</th>\n",
              "      <td>STL</td>\n",
              "      <td>Relief_Pitcher</td>\n",
              "      <td>75</td>\n",
              "      <td>220.0</td>\n",
              "      <td>32.34</td>\n",
              "    </tr>\n",
              "    <tr>\n",
              "      <th>1027</th>\n",
              "      <td>STL</td>\n",
              "      <td>Relief_Pitcher</td>\n",
              "      <td>72</td>\n",
              "      <td>180.0</td>\n",
              "      <td>31.58</td>\n",
              "    </tr>\n",
              "    <tr>\n",
              "      <th>1028</th>\n",
              "      <td>STL</td>\n",
              "      <td>Relief_Pitcher</td>\n",
              "      <td>75</td>\n",
              "      <td>205.0</td>\n",
              "      <td>28.89</td>\n",
              "    </tr>\n",
              "    <tr>\n",
              "      <th>1029</th>\n",
              "      <td>STL</td>\n",
              "      <td>Relief_Pitcher</td>\n",
              "      <td>73</td>\n",
              "      <td>190.0</td>\n",
              "      <td>25.08</td>\n",
              "    </tr>\n",
              "    <tr>\n",
              "      <th>1030</th>\n",
              "      <td>STL</td>\n",
              "      <td>Relief_Pitcher</td>\n",
              "      <td>74</td>\n",
              "      <td>180.0</td>\n",
              "      <td>25.73</td>\n",
              "    </tr>\n",
              "    <tr>\n",
              "      <th>1031</th>\n",
              "      <td>STL</td>\n",
              "      <td>Relief_Pitcher</td>\n",
              "      <td>75</td>\n",
              "      <td>205.0</td>\n",
              "      <td>25.19</td>\n",
              "    </tr>\n",
              "    <tr>\n",
              "      <th>1032</th>\n",
              "      <td>STL</td>\n",
              "      <td>Relief_Pitcher</td>\n",
              "      <td>75</td>\n",
              "      <td>190.0</td>\n",
              "      <td>31.01</td>\n",
              "    </tr>\n",
              "    <tr>\n",
              "      <th>1033</th>\n",
              "      <td>STL</td>\n",
              "      <td>Relief_Pitcher</td>\n",
              "      <td>73</td>\n",
              "      <td>195.0</td>\n",
              "      <td>27.92</td>\n",
              "    </tr>\n",
              "  </tbody>\n",
              "</table>\n",
              "<p>1033 rows × 5 columns</p>\n",
              "</div>"
            ],
            "text/plain": [
              "     Team           Position  Height  Weight    Age\n",
              "0     BAL            Catcher      74   180.0  22.99\n",
              "1     BAL            Catcher      74   215.0  34.69\n",
              "2     BAL            Catcher      72   210.0  30.78\n",
              "3     BAL      First_Baseman      72   210.0  35.43\n",
              "4     BAL      First_Baseman      73   188.0  35.71\n",
              "5     BAL     Second_Baseman      69   176.0  29.39\n",
              "6     BAL          Shortstop      69   209.0  30.77\n",
              "7     BAL      Third_Baseman      71   200.0  35.07\n",
              "8     BAL      Third_Baseman      76   231.0  30.19\n",
              "9     BAL         Outfielder      71   180.0  27.05\n",
              "10    BAL         Outfielder      73   188.0  23.88\n",
              "11    BAL         Outfielder      73   180.0  26.96\n",
              "12    BAL         Outfielder      74   185.0  23.29\n",
              "13    BAL         Outfielder      74   160.0  26.11\n",
              "14    BAL         Outfielder      69   180.0  27.55\n",
              "15    BAL         Outfielder      70   185.0  34.27\n",
              "16    BAL  Designated_Hitter      72   197.0  30.00\n",
              "17    BAL   Starting_Pitcher      73   189.0  27.99\n",
              "18    BAL   Starting_Pitcher      75   185.0  22.38\n",
              "19    BAL   Starting_Pitcher      78   219.0  22.89\n",
              "20    BAL   Starting_Pitcher      79   230.0  25.76\n",
              "21    BAL   Starting_Pitcher      76   205.0  36.33\n",
              "22    BAL   Starting_Pitcher      74   230.0  31.17\n",
              "23    BAL   Starting_Pitcher      76   195.0  32.31\n",
              "24    BAL     Relief_Pitcher      72   180.0  31.03\n",
              "25    BAL     Relief_Pitcher      71   192.0  29.26\n",
              "26    BAL     Relief_Pitcher      75   225.0  29.47\n",
              "27    BAL     Relief_Pitcher      77   203.0  32.46\n",
              "28    BAL     Relief_Pitcher      74   195.0  35.67\n",
              "29    BAL     Relief_Pitcher      73   182.0  25.89\n",
              "...   ...                ...     ...     ...    ...\n",
              "1004  STL      First_Baseman      73   190.0  27.99\n",
              "1005  STL      First_Baseman      75   225.0  27.12\n",
              "1006  STL     Second_Baseman      73   185.0  31.14\n",
              "1007  STL     Second_Baseman      67   180.0  30.21\n",
              "1008  STL          Shortstop      67   165.0  32.11\n",
              "1009  STL      Third_Baseman      76   240.0  31.91\n",
              "1010  STL      Third_Baseman      74   220.0  34.44\n",
              "1011  STL         Outfielder      73   212.0  36.68\n",
              "1012  STL         Outfielder      70   163.0  37.66\n",
              "1013  STL         Outfielder      75   215.0  30.98\n",
              "1014  STL         Outfielder      70   175.0  27.07\n",
              "1015  STL         Outfielder      72   205.0  29.11\n",
              "1016  STL         Outfielder      77   210.0  25.82\n",
              "1017  STL   Starting_Pitcher      79   205.0  25.50\n",
              "1018  STL   Starting_Pitcher      78   208.0  29.57\n",
              "1019  STL   Starting_Pitcher      74   215.0  25.37\n",
              "1020  STL   Starting_Pitcher      75   180.0  33.99\n",
              "1021  STL   Starting_Pitcher      75   200.0  29.86\n",
              "1022  STL   Starting_Pitcher      78   230.0  31.84\n",
              "1023  STL     Relief_Pitcher      76   211.0  38.31\n",
              "1024  STL     Relief_Pitcher      75   230.0  34.48\n",
              "1025  STL     Relief_Pitcher      69   190.0  36.88\n",
              "1026  STL     Relief_Pitcher      75   220.0  32.34\n",
              "1027  STL     Relief_Pitcher      72   180.0  31.58\n",
              "1028  STL     Relief_Pitcher      75   205.0  28.89\n",
              "1029  STL     Relief_Pitcher      73   190.0  25.08\n",
              "1030  STL     Relief_Pitcher      74   180.0  25.73\n",
              "1031  STL     Relief_Pitcher      75   205.0  25.19\n",
              "1032  STL     Relief_Pitcher      75   190.0  31.01\n",
              "1033  STL     Relief_Pitcher      73   195.0  27.92\n",
              "\n",
              "[1033 rows x 5 columns]"
            ]
          },
          "metadata": {
            "tags": []
          },
          "execution_count": 89
        }
      ]
    },
    {
      "metadata": {
        "id": "1AVyHeLVowkd",
        "colab_type": "code",
        "colab": {}
      },
      "cell_type": "code",
      "source": [
        "#Create dummy variable for team\n",
        "Team_dummy = pd.get_dummies(df['Team'])"
      ],
      "execution_count": 0,
      "outputs": []
    },
    {
      "metadata": {
        "id": "EOSyg76zp2Ec",
        "colab_type": "code",
        "colab": {}
      },
      "cell_type": "code",
      "source": [
        "# Replace Position with number\n",
        "df.Position.unique()\n",
        "numbers = {'Position': {'Catcher': 0, 'First_Baseman': 1, 'Second_Baseman': 2, 'Third_Baseman': 3, 'Shortstop': 4, 'Outfielder': 5, \n",
        "                        'Designated_Hitter': 6, 'Starting_Pitcher': 7, 'Relief_Pitcher': 8}}\n",
        "df.replace(numbers, inplace = True)"
      ],
      "execution_count": 0,
      "outputs": []
    },
    {
      "metadata": {
        "id": "fwSgqYzppIhh",
        "colab_type": "code",
        "outputId": "4fe9b9ad-1294-4387-ab16-d12b8140ddae",
        "colab": {
          "base_uri": "https://localhost:8080/",
          "height": 391
        }
      },
      "cell_type": "code",
      "source": [
        "#Plot a heat map of ( Age, Weight, Height, Position)\n",
        "import matplotlib.pyplot as plt\n",
        "import seaborn as sns\n",
        "plt.figure(figsize=(12,6))\n",
        "sns.heatmap(df.corr(),annot=True, cmap = \"BuGn\")\n",
        "# It can be viewed in the map that Weight and Height are highly related, and Height is highly related to Position, which makes sense that taller people will be forward position most of the times"
      ],
      "execution_count": 0,
      "outputs": [
        {
          "output_type": "execute_result",
          "data": {
            "text/plain": [
              "<matplotlib.axes._subplots.AxesSubplot at 0x7fe0b4e8b390>"
            ]
          },
          "metadata": {
            "tags": []
          },
          "execution_count": 92
        },
        {
          "output_type": "display_data",
          "data": {
            "image/png": "[encoded data removed]",
            "text/plain": [
              "<Figure size 864x432 with 2 Axes>"
            ]
          },
          "metadata": {
            "tags": []
          }
        }
      ]
    },
    {
      "metadata": {
        "id": "AgY0aQiBNgrg",
        "colab_type": "text"
      },
      "cell_type": "markdown",
      "source": [
        "## Model"
      ]
    },
    {
      "metadata": {
        "id": "8lzc98GwNh_e",
        "colab_type": "code",
        "colab": {}
      },
      "cell_type": "code",
      "source": [
        "from sklearn import linear_model\n",
        "from sklearn.model_selection import train_test_split"
      ],
      "execution_count": 0,
      "outputs": []
    },
    {
      "metadata": {
        "id": "7u5EFF1FQfbs",
        "colab_type": "text"
      },
      "cell_type": "markdown",
      "source": [
        "### Create Features\n"
      ]
    },
    {
      "metadata": {
        "id": "9xBm4wektxRh",
        "colab_type": "code",
        "outputId": "a40575b8-8dcc-4310-ccc4-2508e96b90e1",
        "colab": {
          "base_uri": "https://localhost:8080/",
          "height": 34
        }
      },
      "cell_type": "code",
      "source": [
        "var = df['Height'].values\n",
        "var.shape"
      ],
      "execution_count": 0,
      "outputs": [
        {
          "output_type": "execute_result",
          "data": {
            "text/plain": [
              "(1033,)"
            ]
          },
          "metadata": {
            "tags": []
          },
          "execution_count": 94
        }
      ]
    },
    {
      "metadata": {
        "id": "SEUpMhHvQhkc",
        "colab_type": "code",
        "outputId": "d82b7d42-52a0-4b7c-cff7-f041f4eb5d8b",
        "colab": {
          "base_uri": "https://localhost:8080/",
          "height": 34
        }
      },
      "cell_type": "code",
      "source": [
        "y = df['Height'].values #Target\n",
        "#y = y.reshape(-1, 1)\n",
        "X = df[['Position','Weight']].values #Feature(s)\n",
        "#X = X.reshape(-1,1)\n",
        "\n",
        "y.shape"
      ],
      "execution_count": 0,
      "outputs": [
        {
          "output_type": "execute_result",
          "data": {
            "text/plain": [
              "(1033,)"
            ]
          },
          "metadata": {
            "tags": []
          },
          "execution_count": 96
        }
      ]
    },
    {
      "metadata": {
        "id": "a1PeC6cbQHar",
        "colab_type": "text"
      },
      "cell_type": "markdown",
      "source": [
        "### Split data"
      ]
    },
    {
      "metadata": {
        "id": "Pb552OpRON4G",
        "colab_type": "code",
        "outputId": "8913ff2c-61b9-4999-8774-40676ca3fbd7",
        "colab": {
          "base_uri": "https://localhost:8080/",
          "height": 51
        }
      },
      "cell_type": "code",
      "source": [
        "X_train, X_test, y_train, y_test = train_test_split(X, y, test_size=0.2)\n",
        "print(X_train.shape, y_train.shape)\n",
        "print(X_test.shape, y_test.shape)"
      ],
      "execution_count": 0,
      "outputs": [
        {
          "output_type": "stream",
          "text": [
            "(826, 2) (826,)\n",
            "(207, 2) (207,)\n"
          ],
          "name": "stdout"
        }
      ]
    },
    {
      "metadata": {
        "id": "XSX1G3QoQFdy",
        "colab_type": "text"
      },
      "cell_type": "markdown",
      "source": [
        "### Fit the model"
      ]
    },
    {
      "metadata": {
        "id": "KxnwLKlrPorE",
        "colab_type": "code",
        "colab": {}
      },
      "cell_type": "code",
      "source": [
        "lm = linear_model.LinearRegression()\n",
        "model = lm.fit(X_train, y_train)\n",
        "predictions = lm.predict(X_test)"
      ],
      "execution_count": 0,
      "outputs": []
    },
    {
      "metadata": {
        "id": "WipFTmTtV29v",
        "colab_type": "text"
      },
      "cell_type": "markdown",
      "source": [
        "Returns Numpy Array"
      ]
    },
    {
      "metadata": {
        "id": "PE3iilyCUxFX",
        "colab_type": "code",
        "outputId": "11850fa1-c39c-4cdc-8495-59d1b51efc4e",
        "colab": {
          "base_uri": "https://localhost:8080/",
          "height": 34
        }
      },
      "cell_type": "code",
      "source": [
        "type(predictions)"
      ],
      "execution_count": 0,
      "outputs": [
        {
          "output_type": "execute_result",
          "data": {
            "text/plain": [
              "numpy.ndarray"
            ]
          },
          "metadata": {
            "tags": []
          },
          "execution_count": 99
        }
      ]
    },
    {
      "metadata": {
        "id": "wXZj9Jq_TKjr",
        "colab_type": "text"
      },
      "cell_type": "markdown",
      "source": [
        "### Plot Predictions"
      ]
    },
    {
      "metadata": {
        "id": "guGaARR3T-s9",
        "colab_type": "code",
        "outputId": "59dca695-ec21-43a9-9ba0-a2850505bed8",
        "colab": {
          "base_uri": "https://localhost:8080/",
          "height": 378
        }
      },
      "cell_type": "code",
      "source": [
        "from matplotlib import pyplot as plt\n",
        "plt.scatter(y_test, predictions)\n",
        "plt.xlabel(\"Actual Height\")\n",
        "plt.ylabel(\"Predicted Height\")"
      ],
      "execution_count": 0,
      "outputs": [
        {
          "output_type": "execute_result",
          "data": {
            "text/plain": [
              "Text(0, 0.5, 'Predicted Height')"
            ]
          },
          "metadata": {
            "tags": []
          },
          "execution_count": 100
        },
        {
          "output_type": "display_data",
          "data": {
            "image/png": "[encoded data removed]",
            "text/plain": [
              "<Figure size 576x396 with 1 Axes>"
            ]
          },
          "metadata": {
            "tags": []
          }
        }
      ]
    },
    {
      "metadata": {
        "id": "HyNJLkXvV84d",
        "colab_type": "text"
      },
      "cell_type": "markdown",
      "source": [
        "### Print Accuracy of Linear Regression Model"
      ]
    },
    {
      "metadata": {
        "id": "nwq5XCBjTNaa",
        "colab_type": "code",
        "outputId": "7ad6ac81-3012-49b6-aa21-e1badb64b615",
        "colab": {
          "base_uri": "https://localhost:8080/",
          "height": 34
        }
      },
      "cell_type": "code",
      "source": [
        "model.score(X_test, y_test)"
      ],
      "execution_count": 0,
      "outputs": [
        {
          "output_type": "execute_result",
          "data": {
            "text/plain": [
              "0.363182970708125"
            ]
          },
          "metadata": {
            "tags": []
          },
          "execution_count": 101
        }
      ]
    },
    {
      "metadata": {
        "id": "uPc_ziXrYf4K",
        "colab_type": "text"
      },
      "cell_type": "markdown",
      "source": [
        "### Use Cross-Validation"
      ]
    },
    {
      "metadata": {
        "id": "6gOCsSV1YtXp",
        "colab_type": "code",
        "colab": {}
      },
      "cell_type": "code",
      "source": [
        "from sklearn.model_selection import cross_val_score, cross_val_predict\n",
        "from sklearn import metrics"
      ],
      "execution_count": 0,
      "outputs": []
    },
    {
      "metadata": {
        "id": "a7oU-REkYwSW",
        "colab_type": "code",
        "outputId": "8224982d-c2df-43da-c206-35424b800bc3",
        "colab": {
          "base_uri": "https://localhost:8080/",
          "height": 51
        }
      },
      "cell_type": "code",
      "source": [
        "scores = cross_val_score(model, X, y, cv=6)\n",
        "scores"
      ],
      "execution_count": 0,
      "outputs": [
        {
          "output_type": "execute_result",
          "data": {
            "text/plain": [
              "array([0.40672679, 0.33286148, 0.32134336, 0.35590968, 0.25891771,\n",
              "       0.41003812])"
            ]
          },
          "metadata": {
            "tags": []
          },
          "execution_count": 71
        }
      ]
    },
    {
      "metadata": {
        "id": "VB5VEe4mZPdY",
        "colab_type": "text"
      },
      "cell_type": "markdown",
      "source": [
        "### Plot Cross-validation Predictions "
      ]
    },
    {
      "metadata": {
        "id": "8O2bc1HxZIcb",
        "colab_type": "code",
        "outputId": "26b6c52e-5aad-48cd-d4e2-191cc7d03237",
        "colab": {
          "base_uri": "https://localhost:8080/",
          "height": 364
        }
      },
      "cell_type": "code",
      "source": [
        "predictions = cross_val_predict(model, X, y, cv=6)\n",
        "plt.scatter(y, predictions)"
      ],
      "execution_count": 0,
      "outputs": [
        {
          "output_type": "execute_result",
          "data": {
            "text/plain": [
              "<matplotlib.collections.PathCollection at 0x7fe0b4f0e048>"
            ]
          },
          "metadata": {
            "tags": []
          },
          "execution_count": 72
        },
        {
          "output_type": "display_data",
          "data": {
            "image/png": "[encoded data removed]",
            "text/plain": [
              "<Figure size 576x396 with 1 Axes>"
            ]
          },
          "metadata": {
            "tags": []
          }
        }
      ]
    },
    {
      "metadata": {
        "id": "3PuDYQmEZXB5",
        "colab_type": "code",
        "outputId": "85c011d6-0fc2-40f9-eb07-e994c877ea83",
        "colab": {
          "base_uri": "https://localhost:8080/",
          "height": 35
        }
      },
      "cell_type": "code",
      "source": [
        "accuracy = metrics.r2_score(y, predictions)\n",
        "accuracy"
      ],
      "execution_count": 0,
      "outputs": [
        {
          "output_type": "execute_result",
          "data": {
            "text/plain": [
              "0.280770222008195"
            ]
          },
          "metadata": {
            "tags": []
          },
          "execution_count": 22
        }
      ]
    },
    {
      "metadata": {
        "id": "xqenN6Q1YQMx",
        "colab_type": "text"
      },
      "cell_type": "markdown",
      "source": [
        "### Visualize cross-validated scores for Linear regression model"
      ]
    },
    {
      "metadata": {
        "id": "M2v8VOVpZMca",
        "colab_type": "text"
      },
      "cell_type": "markdown",
      "source": [
        "See this:  http://www.scikit-yb.org/en/latest/api/model_selection/cross_validation.html"
      ]
    },
    {
      "metadata": {
        "id": "ALdm-HA_YY4Z",
        "colab_type": "code",
        "outputId": "f097ab38-d826-4ac0-b286-8a43ecc93e62",
        "colab": {
          "base_uri": "https://localhost:8080/",
          "height": 376
        }
      },
      "cell_type": "code",
      "source": [
        "from sklearn.linear_model import Ridge\n",
        "from sklearn.model_selection import KFold\n",
        "from yellowbrick.model_selection import CVScores\n",
        "\n",
        "# Create a new figure and axes\n",
        "_, ax = plt.subplots()\n",
        "cv = KFold(12)\n",
        "\n",
        "oz = CVScores(\n",
        "    linear_model.LinearRegression(), ax=ax, cv=cv, scoring='r2'\n",
        ")\n",
        "\n",
        "oz.fit(X, y)\n",
        "oz.poof()"
      ],
      "execution_count": 0,
      "outputs": [
        {
          "output_type": "display_data",
          "data": {
            "image/png": "[encoded data removed]",
            "text/plain": [
              "<Figure size 576x396 with 1 Axes>"
            ]
          },
          "metadata": {
            "tags": []
          }
        }
      ]
    },
    {
      "metadata": {
        "id": "0v6peWR9Zqn4",
        "colab_type": "text"
      },
      "cell_type": "markdown",
      "source": [
        "## Conclusion"
      ]
    },
    {
      "metadata": {
        "id": "zg1XKgnGZsrS",
        "colab_type": "text"
      },
      "cell_type": "markdown",
      "source": [
        "* Cross-Validation improved Accuracy\n",
        "* Adding more data or more features could improve the model\n",
        "* Major League Baseball may be a strange set to predict Weight\n",
        "* Bigger Data Set here:  http://socr.ucla.edu/docs/resources/SOCR_Data/SOCR_Data_Dinov_020108_HeightsWeights.html\n"
      ]
    },
    {
      "metadata": {
        "id": "NNiasM4RaCS6",
        "colab_type": "code",
        "colab": {}
      },
      "cell_type": "code",
      "source": [
        ""
      ],
      "execution_count": 0,
      "outputs": []
    },
    {
      "metadata": {
        "id": "CcWOl0IbW81F",
        "colab_type": "text"
      },
      "cell_type": "markdown",
      "source": [
        "##**text**"
      ]
    },
    {
      "metadata": {
        "id": "SGR9DcCvXDeg",
        "colab_type": "text"
      },
      "cell_type": "markdown",
      "source": [
        "哈哈哈哈"
      ]
    }
  ]
}